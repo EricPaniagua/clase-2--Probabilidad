{
 "cells": [
  {
   "cell_type": "code",
   "execution_count": 155,
   "metadata": {},
   "outputs": [],
   "source": [
    "import pandas as pd\n",
    "import numpy as np"
   ]
  },
  {
   "cell_type": "code",
   "execution_count": 156,
   "metadata": {},
   "outputs": [],
   "source": [
    "df = pd.read_csv('alturas-pesos-train.csv')"
   ]
  },
  {
   "cell_type": "code",
   "execution_count": 157,
   "metadata": {},
   "outputs": [
    {
     "data": {
      "text/html": [
       "<div>\n",
       "<style scoped>\n",
       "    .dataframe tbody tr th:only-of-type {\n",
       "        vertical-align: middle;\n",
       "    }\n",
       "\n",
       "    .dataframe tbody tr th {\n",
       "        vertical-align: top;\n",
       "    }\n",
       "\n",
       "    .dataframe thead th {\n",
       "        text-align: right;\n",
       "    }\n",
       "</style>\n",
       "<table border=\"1\" class=\"dataframe\">\n",
       "  <thead>\n",
       "    <tr style=\"text-align: right;\">\n",
       "      <th></th>\n",
       "      <th>Genero</th>\n",
       "      <th>Peso</th>\n",
       "      <th>Altura</th>\n",
       "    </tr>\n",
       "  </thead>\n",
       "  <tbody>\n",
       "    <tr>\n",
       "      <th>0</th>\n",
       "      <td>Mujer</td>\n",
       "      <td>60</td>\n",
       "      <td>160</td>\n",
       "    </tr>\n",
       "    <tr>\n",
       "      <th>1</th>\n",
       "      <td>Hombre</td>\n",
       "      <td>95</td>\n",
       "      <td>180</td>\n",
       "    </tr>\n",
       "    <tr>\n",
       "      <th>2</th>\n",
       "      <td>Hombre</td>\n",
       "      <td>75</td>\n",
       "      <td>170</td>\n",
       "    </tr>\n",
       "    <tr>\n",
       "      <th>3</th>\n",
       "      <td>Mujer</td>\n",
       "      <td>55</td>\n",
       "      <td>160</td>\n",
       "    </tr>\n",
       "    <tr>\n",
       "      <th>4</th>\n",
       "      <td>Mujer</td>\n",
       "      <td>55</td>\n",
       "      <td>150</td>\n",
       "    </tr>\n",
       "    <tr>\n",
       "      <th>5</th>\n",
       "      <td>Mujer</td>\n",
       "      <td>60</td>\n",
       "      <td>160</td>\n",
       "    </tr>\n",
       "    <tr>\n",
       "      <th>6</th>\n",
       "      <td>Hombre</td>\n",
       "      <td>80</td>\n",
       "      <td>175</td>\n",
       "    </tr>\n",
       "    <tr>\n",
       "      <th>7</th>\n",
       "      <td>Mujer</td>\n",
       "      <td>70</td>\n",
       "      <td>170</td>\n",
       "    </tr>\n",
       "    <tr>\n",
       "      <th>8</th>\n",
       "      <td>Mujer</td>\n",
       "      <td>55</td>\n",
       "      <td>155</td>\n",
       "    </tr>\n",
       "    <tr>\n",
       "      <th>9</th>\n",
       "      <td>Hombre</td>\n",
       "      <td>85</td>\n",
       "      <td>180</td>\n",
       "    </tr>\n",
       "  </tbody>\n",
       "</table>\n",
       "</div>"
      ],
      "text/plain": [
       "   Genero  Peso  Altura\n",
       "0   Mujer    60     160\n",
       "1  Hombre    95     180\n",
       "2  Hombre    75     170\n",
       "3   Mujer    55     160\n",
       "4   Mujer    55     150\n",
       "5   Mujer    60     160\n",
       "6  Hombre    80     175\n",
       "7   Mujer    70     170\n",
       "8   Mujer    55     155\n",
       "9  Hombre    85     180"
      ]
     },
     "execution_count": 157,
     "metadata": {},
     "output_type": "execute_result"
    }
   ],
   "source": [
    "df[:10]"
   ]
  },
  {
   "cell_type": "code",
   "execution_count": 158,
   "metadata": {},
   "outputs": [
    {
     "data": {
      "text/plain": [
       "8000"
      ]
     },
     "execution_count": 158,
     "metadata": {},
     "output_type": "execute_result"
    }
   ],
   "source": [
    "len(df)"
   ]
  },
  {
   "cell_type": "markdown",
   "metadata": {},
   "source": [
    "# Modelos en Machine Learning\n",
    "- Generación\n",
    "- Clasificación\n",
    "- Regresión"
   ]
  },
  {
   "cell_type": "markdown",
   "metadata": {},
   "source": [
    "# Tenemos 3 V.A: Género, Peso, Altura"
   ]
  },
  {
   "cell_type": "markdown",
   "metadata": {},
   "source": [
    "## Género: V.A de Bernoulli"
   ]
  },
  {
   "cell_type": "code",
   "execution_count": 161,
   "metadata": {},
   "outputs": [
    {
     "name": "stdout",
     "output_type": "stream",
     "text": [
      "0        Mujer\n",
      "1       Hombre\n",
      "2       Hombre\n",
      "3        Mujer\n",
      "4        Mujer\n",
      "5        Mujer\n",
      "6       Hombre\n",
      "7        Mujer\n",
      "8        Mujer\n",
      "9       Hombre\n",
      "10       Mujer\n",
      "11      Hombre\n",
      "12      Hombre\n",
      "13       Mujer\n",
      "14       Mujer\n",
      "15      Hombre\n",
      "16       Mujer\n",
      "17       Mujer\n",
      "18       Mujer\n",
      "19       Mujer\n",
      "20       Mujer\n",
      "21       Mujer\n",
      "22       Mujer\n",
      "23      Hombre\n",
      "24      Hombre\n",
      "25      Hombre\n",
      "26      Hombre\n",
      "27       Mujer\n",
      "28       Mujer\n",
      "29       Mujer\n",
      "         ...  \n",
      "7970     Mujer\n",
      "7971     Mujer\n",
      "7972     Mujer\n",
      "7973    Hombre\n",
      "7974    Hombre\n",
      "7975    Hombre\n",
      "7976    Hombre\n",
      "7977     Mujer\n",
      "7978    Hombre\n",
      "7979     Mujer\n",
      "7980    Hombre\n",
      "7981    Hombre\n",
      "7982    Hombre\n",
      "7983    Hombre\n",
      "7984     Mujer\n",
      "7985     Mujer\n",
      "7986     Mujer\n",
      "7987    Hombre\n",
      "7988     Mujer\n",
      "7989    Hombre\n",
      "7990     Mujer\n",
      "7991    Hombre\n",
      "7992    Hombre\n",
      "7993    Hombre\n",
      "7994    Hombre\n",
      "7995     Mujer\n",
      "7996    Hombre\n",
      "7997    Hombre\n",
      "7998     Mujer\n",
      "7999    Hombre\n",
      "Name: Genero, Length: 8000, dtype: object\n"
     ]
    }
   ],
   "source": [
    "genero = df['Genero']\n",
    "print(genero)"
   ]
  },
  {
   "cell_type": "markdown",
   "metadata": {},
   "source": [
    "### Cual es el parámetro p?"
   ]
  },
  {
   "cell_type": "code",
   "execution_count": 162,
   "metadata": {},
   "outputs": [
    {
     "name": "stdout",
     "output_type": "stream",
     "text": [
      "0.50025 0.49975\n"
     ]
    }
   ],
   "source": [
    "p_hombre = (genero == 'Hombre').sum()/len(genero)\n",
    "p_mujer = (genero == 'Mujer').sum()/len(genero)\n",
    "print(p_hombre, p_mujer)"
   ]
  },
  {
   "cell_type": "code",
   "execution_count": 163,
   "metadata": {},
   "outputs": [],
   "source": [
    "from matplotlib import pyplot as plt"
   ]
  },
  {
   "cell_type": "code",
   "execution_count": 164,
   "metadata": {},
   "outputs": [
    {
     "data": {
      "image/png": "[encoded data removed]",
      "text/plain": [
       "<Figure size 432x288 with 1 Axes>"
      ]
     },
     "metadata": {
      "needs_background": "light"
     },
     "output_type": "display_data"
    }
   ],
   "source": [
    "plt.bar(['Hombre', 'Mujer'], [0.50025, 0.49975])\n",
    "plt.show()"
   ]
  },
  {
   "cell_type": "markdown",
   "metadata": {},
   "source": [
    "Espacio muestral:"
   ]
  },
  {
   "cell_type": "code",
   "execution_count": 165,
   "metadata": {},
   "outputs": [
    {
     "data": {
      "text/plain": [
       "['Hombre', 'Mujer']"
      ]
     },
     "execution_count": 165,
     "metadata": {},
     "output_type": "execute_result"
    }
   ],
   "source": [
    "['Hombre', 'Mujer']"
   ]
  },
  {
   "cell_type": "markdown",
   "metadata": {},
   "source": [
    "## Peso: V.A categórica"
   ]
  },
  {
   "cell_type": "code",
   "execution_count": 166,
   "metadata": {},
   "outputs": [],
   "source": [
    "from collections import Counter"
   ]
  },
  {
   "cell_type": "code",
   "execution_count": 168,
   "metadata": {},
   "outputs": [
    {
     "data": {
      "image/png": "[encoded data removed]",
      "text/plain": [
       "<Figure size 432x288 with 1 Axes>"
      ]
     },
     "metadata": {
      "needs_background": "light"
     },
     "output_type": "display_data"
    }
   ],
   "source": [
    "peso =  df['Peso']\n",
    "peso_frecuencia = dict(Counter(peso))\n",
    "plt.bar(peso_frecuencia.keys(), peso_frecuencia.values())\n",
    "plt.show()"
   ]
  },
  {
   "cell_type": "code",
   "execution_count": 170,
   "metadata": {},
   "outputs": [
    {
     "data": {
      "text/plain": [
       "903"
      ]
     },
     "execution_count": 170,
     "metadata": {},
     "output_type": "execute_result"
    }
   ],
   "source": [
    "peso_frecuencia[65]"
   ]
  },
  {
   "cell_type": "code",
   "execution_count": 178,
   "metadata": {},
   "outputs": [
    {
     "data": {
      "image/png": "[encoded data removed]",
      "text/plain": [
       "<Figure size 432x288 with 1 Axes>"
      ]
     },
     "metadata": {
      "needs_background": "light"
     },
     "output_type": "display_data"
    }
   ],
   "source": [
    "peso_prob = {pe:c/len(peso) for pe, c in peso_frecuencia.items()}\n",
    "plt.bar(peso_prob.keys(), peso_prob.values())\n",
    "plt.show()"
   ]
  },
  {
   "cell_type": "code",
   "execution_count": 179,
   "metadata": {},
   "outputs": [
    {
     "data": {
      "text/plain": [
       "0.112875"
      ]
     },
     "execution_count": 179,
     "metadata": {},
     "output_type": "execute_result"
    }
   ],
   "source": [
    "peso_prob[65]"
   ]
  },
  {
   "cell_type": "markdown",
   "metadata": {},
   "source": [
    "Espacio Muestral:"
   ]
  },
  {
   "cell_type": "code",
   "execution_count": 174,
   "metadata": {},
   "outputs": [
    {
     "data": {
      "text/plain": [
       "array([ 30,  35,  40,  45,  50,  55,  60,  65,  70,  75,  80,  85,  90,\n",
       "        95, 100, 105, 110, 115, 120])"
      ]
     },
     "execution_count": 174,
     "metadata": {},
     "output_type": "execute_result"
    }
   ],
   "source": [
    "np.sort(list(peso_prob.keys()))"
   ]
  },
  {
   "cell_type": "markdown",
   "metadata": {},
   "source": [
    "## Altura: V.A categórica"
   ]
  },
  {
   "cell_type": "code",
   "execution_count": 180,
   "metadata": {},
   "outputs": [
    {
     "data": {
      "image/png": "[encoded data removed]",
      "text/plain": [
       "<Figure size 432x288 with 1 Axes>"
      ]
     },
     "metadata": {
      "needs_background": "light"
     },
     "output_type": "display_data"
    }
   ],
   "source": [
    "altura =  df['Altura']\n",
    "altura_frecuencia = dict(Counter(altura))\n",
    "plt.bar(altura_frecuencia.keys(), altura_frecuencia.values())\n",
    "plt.show()"
   ]
  },
  {
   "cell_type": "code",
   "execution_count": 181,
   "metadata": {},
   "outputs": [
    {
     "data": {
      "image/png": "[encoded data removed]",
      "text/plain": [
       "<Figure size 432x288 with 1 Axes>"
      ]
     },
     "metadata": {
      "needs_background": "light"
     },
     "output_type": "display_data"
    }
   ],
   "source": [
    "altura_prob = {al:c/len(altura) for al, c in altura_frecuencia.items()}\n",
    "plt.bar(altura_prob.keys(), altura_prob.values())\n",
    "plt.show()"
   ]
  },
  {
   "cell_type": "markdown",
   "metadata": {},
   "source": [
    "Espacio muestral"
   ]
  },
  {
   "cell_type": "code",
   "execution_count": 182,
   "metadata": {},
   "outputs": [
    {
     "data": {
      "text/plain": [
       "array([140, 145, 150, 155, 160, 165, 170, 175, 180, 185, 190, 195, 200])"
      ]
     },
     "execution_count": 182,
     "metadata": {},
     "output_type": "execute_result"
    }
   ],
   "source": [
    "np.sort(list(altura_frecuencia.keys()))"
   ]
  },
  {
   "cell_type": "markdown",
   "metadata": {},
   "source": [
    "# V.A Marginales\n",
    "Cada V.A independiente de los valores que toman las otras"
   ]
  },
  {
   "cell_type": "markdown",
   "metadata": {},
   "source": [
    "# Modelos generadores:"
   ]
  },
  {
   "cell_type": "code",
   "execution_count": 183,
   "metadata": {},
   "outputs": [
    {
     "name": "stdout",
     "output_type": "stream",
     "text": [
      "[ 65  60  80  65  85  85  65  80  80  80  50  70  85  85  60  65  90  60\n",
      "  60  75  60 100  70  60  75  75  70  80  95  95  75  85  90  65  75  75\n",
      "  85  80  90  85  60  85  55  60  85  85  55  75  65  90  75  75  90  75\n",
      "  65  80  90  90  60  60  95  50  85  85  95  90  75  55  90  55  90  75\n",
      "  80  60  90  90  55  60  60  65  80  80  95  45  95  95  65  70  80  70\n",
      "  60  65  70  50  60  65  65 100  95  55]\n"
     ]
    }
   ],
   "source": [
    "peso_gen = np.random.choice(list(peso_prob.keys()), size = 100, p = list(peso_prob.values()))\n",
    "print(peso_gen)"
   ]
  },
  {
   "cell_type": "code",
   "execution_count": 184,
   "metadata": {},
   "outputs": [
    {
     "name": "stdout",
     "output_type": "stream",
     "text": [
      "[195 175 170 170 165 170 160 175 180 175 185 175 170 160 185 185 170 160\n",
      " 165 160 160 180 170 175 160 175 165 155 165 175 165 170 175 170 150 160\n",
      " 190 170 180 155 160 165 165 160 175 175 170 145 160 155 165 155 175 160\n",
      " 180 165 155 165 160 155 175 160 180 165 170 160 170 160 165 165 185 165\n",
      " 175 185 170 155 170 165 185 170 145 160 165 185 160 160 165 160 160 155\n",
      " 155 160 170 160 160 170 180 155 175 175]\n"
     ]
    }
   ],
   "source": [
    "alt_gen = np.random.choice(list(altura_prob.keys()), size = 100, p = list(altura_prob.values()))\n",
    "print(alt_gen)"
   ]
  },
  {
   "cell_type": "markdown",
   "metadata": {},
   "source": [
    "### Tiene sentido ahora armar conjunto de pesos, alturas generando de esta forma?"
   ]
  },
  {
   "cell_type": "code",
   "execution_count": 153,
   "metadata": {},
   "outputs": [
    {
     "data": {
      "text/plain": [
       "array([[ 70, 155],\n",
       "       [ 70, 170],\n",
       "       [ 75, 170],\n",
       "       [ 65, 180],\n",
       "       [ 50, 165],\n",
       "       [ 45, 180],\n",
       "       [ 75, 170],\n",
       "       [ 50, 160],\n",
       "       [ 60, 160],\n",
       "       [ 50, 175]])"
      ]
     },
     "execution_count": 153,
     "metadata": {},
     "output_type": "execute_result"
    }
   ],
   "source": [
    "pesos_alts = np.array([list(peso_gen), list(alt_gen)]).T\n",
    "pesos_alts[:10]"
   ]
  },
  {
   "cell_type": "code",
   "execution_count": null,
   "metadata": {},
   "outputs": [],
   "source": []
  },
  {
   "cell_type": "code",
   "execution_count": 101,
   "metadata": {},
   "outputs": [],
   "source": [
    "ap = pd.read_csv('alturas-pesos-mils-train.csv')"
   ]
  },
  {
   "cell_type": "code",
   "execution_count": 102,
   "metadata": {},
   "outputs": [],
   "source": [
    "pesos_rounded = (np.round(ap['Peso'].values/5)*5).astype(int)\n",
    "alturas_rounded = (np.round(ap['Altura'].values/5)*5).astype(int)"
   ]
  },
  {
   "cell_type": "code",
   "execution_count": 103,
   "metadata": {},
   "outputs": [
    {
     "data": {
      "text/plain": [
       "array([160, 180, 170, ..., 170, 165, 170])"
      ]
     },
     "execution_count": 103,
     "metadata": {},
     "output_type": "execute_result"
    }
   ],
   "source": [
    "alturas_rounded"
   ]
  },
  {
   "cell_type": "code",
   "execution_count": 104,
   "metadata": {},
   "outputs": [],
   "source": [
    "ap_rounded = ap.copy()"
   ]
  },
  {
   "cell_type": "code",
   "execution_count": 105,
   "metadata": {},
   "outputs": [],
   "source": [
    "ap_rounded['Peso'] = pesos_rounded\n",
    "ap_rounded['Altura'] = alturas_rounded"
   ]
  },
  {
   "cell_type": "code",
   "execution_count": 106,
   "metadata": {},
   "outputs": [],
   "source": [
    "ap_final = ap_rounded[['Genero','Peso', 'Altura']].copy()"
   ]
  },
  {
   "cell_type": "code",
   "execution_count": 107,
   "metadata": {},
   "outputs": [],
   "source": [
    "ap_final.to_csv('alturas-pesos-train.csv',index=False)"
   ]
  },
  {
   "cell_type": "code",
   "execution_count": null,
   "metadata": {},
   "outputs": [],
   "source": []
  }
 ],
 "metadata": {
  "kernelspec": {
   "display_name": "Python 3",
   "language": "python",
   "name": "python3"
  },
  "language_info": {
   "codemirror_mode": {
    "name": "ipython",
    "version": 3
   },
   "file_extension": ".py",
   "mimetype": "text/x-python",
   "name": "python",
   "nbconvert_exporter": "python",
   "pygments_lexer": "ipython3",
   "version": "3.6.8"
  }
 },
 "nbformat": 4,
 "nbformat_minor": 2
}
