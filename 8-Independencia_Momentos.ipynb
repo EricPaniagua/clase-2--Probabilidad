{
 "cells": [
  {
   "cell_type": "markdown",
   "metadata": {},
   "source": [
    "# Comó se relacionan las marginales, la conjunta y las condicionales?"
   ]
  },
  {
   "cell_type": "markdown",
   "metadata": {},
   "source": [
    "$\\large P(X_1, X_2) = P(X_1 | X_2=x_2)P(X_2) = P(X_2 | X_1=x_1)P(X_1)$"
   ]
  },
  {
   "cell_type": "code",
   "execution_count": 20,
   "metadata": {},
   "outputs": [],
   "source": [
    "import pandas as pd\n",
    "from collections import Counter\n",
    "\n",
    "df = pd.read_csv('alturas-pesos-train.csv')\n"
   ]
  },
  {
   "cell_type": "code",
   "execution_count": 21,
   "metadata": {},
   "outputs": [],
   "source": [
    "tuplas = []\n",
    "for line in df[['Peso', 'Altura']].values:\n",
    "    tuplas.append(tuple(line))"
   ]
  },
  {
   "cell_type": "code",
   "execution_count": 22,
   "metadata": {},
   "outputs": [],
   "source": [
    "frecuencia_conjunta = dict(Counter(tuplas))"
   ]
  },
  {
   "cell_type": "markdown",
   "metadata": {},
   "source": [
    "Ejemplo\n",
    "\n",
    "$P(Peso= 80, Altura =165) = P(Peso=80|Altura=165)P(Altura=165)$"
   ]
  },
  {
   "cell_type": "code",
   "execution_count": 23,
   "metadata": {},
   "outputs": [
    {
     "name": "stdout",
     "output_type": "stream",
     "text": [
      "0.01225\n"
     ]
    }
   ],
   "source": [
    "P_80_165 = frecuencia_conjunta[(80, 165)]/len(df)\n",
    "print(P_80_165)"
   ]
  },
  {
   "cell_type": "code",
   "execution_count": 41,
   "metadata": {},
   "outputs": [],
   "source": [
    "Cant_alt_165 = (df['Altura'] == 165).sum()\n",
    "Cant_peso_80_alt_165 = (df[df['Altura'] == 165]['Peso'] == 80).sum()"
   ]
  },
  {
   "cell_type": "code",
   "execution_count": 42,
   "metadata": {},
   "outputs": [
    {
     "name": "stdout",
     "output_type": "stream",
     "text": [
      "0.07116920842411038\n"
     ]
    }
   ],
   "source": [
    "P_80_dado_165 = Cant_peso_80_alt_165/Cant_alt_165\n",
    "print(P_80_dado_165)"
   ]
  },
  {
   "cell_type": "code",
   "execution_count": 43,
   "metadata": {},
   "outputs": [
    {
     "data": {
      "text/plain": [
       "0.172125"
      ]
     },
     "execution_count": 43,
     "metadata": {},
     "output_type": "execute_result"
    }
   ],
   "source": [
    "P_alt_165 = Cant_alt_165/len(df)\n",
    "P_alt_165"
   ]
  },
  {
   "cell_type": "code",
   "execution_count": 47,
   "metadata": {},
   "outputs": [
    {
     "data": {
      "text/plain": [
       "0.01225"
      ]
     },
     "execution_count": 47,
     "metadata": {},
     "output_type": "execute_result"
    }
   ],
   "source": [
    "# Producto es igual a P_80_165\n",
    "P_alt_165*P_80_dado_165"
   ]
  },
  {
   "cell_type": "markdown",
   "metadata": {},
   "source": [
    "# Notar como se hizo el cálculo\n",
    "\n",
    "#### Cant_alt_165/len(df) * Cant_peso_80_alt_165/Cant_alt_165 = Cant_peso_80_alt_165/len(df)"
   ]
  },
  {
   "cell_type": "markdown",
   "metadata": {},
   "source": [
    "# Independencia"
   ]
  },
  {
   "cell_type": "markdown",
   "metadata": {},
   "source": [
    "$P(X_1, X_2) = P(X_1 | X_2=x_2)P(X_2)$\n",
    "\n",
    "Si $X_1$ no depende de $X_2$ $P(X_1 | X_2=x_2)$ = $P(X_1)$\n",
    "\n",
    "$\\large P(X_1, X_2) = P(X_1)P(X_2)$"
   ]
  },
  {
   "cell_type": "markdown",
   "metadata": {},
   "source": [
    "# De conjunta a marginal"
   ]
  },
  {
   "cell_type": "markdown",
   "metadata": {},
   "source": [
    "$\\large P(X_1) = \\sum_{x_2}{P(X_1, X_2)}$\n",
    "\n",
    "$\\large P(Pesos) = \\sum_{Alturas}{P(Pesos, Alturas)}$"
   ]
  },
  {
   "cell_type": "code",
   "execution_count": 49,
   "metadata": {},
   "outputs": [
    {
     "data": {
      "image/png": "[encoded data removed]",
      "text/plain": [
       "<Figure size 432x432 with 3 Axes>"
      ]
     },
     "metadata": {
      "needs_background": "light"
     },
     "output_type": "display_data"
    },
    {
     "data": {
      "text/plain": [
       "(array([[1, 0, 0, ..., 0, 0, 0],\n",
       "        [0, 0, 0, ..., 0, 0, 0],\n",
       "        [0, 0, 0, ..., 0, 0, 0],\n",
       "        ...,\n",
       "        [0, 0, 0, ..., 0, 0, 0],\n",
       "        [0, 0, 0, ..., 0, 0, 0],\n",
       "        [0, 0, 0, ..., 0, 0, 1]]), 30, 140)"
      ]
     },
     "execution_count": 49,
     "metadata": {},
     "output_type": "execute_result"
    }
   ],
   "source": [
    "from helper import plot_joint_hists_dicts\n",
    "plot_joint_hists_dicts(frecuencia_conjunta)"
   ]
  }
 ],
 "metadata": {
  "kernelspec": {
   "display_name": "Python 3",
   "language": "python",
   "name": "python3"
  },
  "language_info": {
   "codemirror_mode": {
    "name": "ipython",
    "version": 3
   },
   "file_extension": ".py",
   "mimetype": "text/x-python",
   "name": "python",
   "nbconvert_exporter": "python",
   "pygments_lexer": "ipython3",
   "version": "3.6.8"
  }
 },
 "nbformat": 4,
 "nbformat_minor": 2
}
