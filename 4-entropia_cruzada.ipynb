{
 "cells": [
  {
   "cell_type": "markdown",
   "metadata": {},
   "source": [
    "# Entropía cruzada"
   ]
  },
  {
   "cell_type": "code",
   "execution_count": 149,
   "metadata": {},
   "outputs": [],
   "source": [
    "import numpy as np"
   ]
  },
  {
   "cell_type": "markdown",
   "metadata": {},
   "source": [
    "Dadas dos distribuciones de probabilidad, la entropía cruzada mide el grado de similitud entre las distribuciones"
   ]
  },
  {
   "cell_type": "markdown",
   "metadata": {},
   "source": [
    "Se basa en KL-divergence $D_{KL}(p||q)$ (Kullback-Leibler)"
   ]
  },
  {
   "cell_type": "markdown",
   "metadata": {},
   "source": [
    "$\\huge H(p,q) = - \\sum_{i=1}^N{p_i log(q_i)} = H(p) + D_{KL}(p||q)$"
   ]
  },
  {
   "cell_type": "markdown",
   "metadata": {},
   "source": [
    "$\\large D_{KL}(p||q) = \\sum_{i}{p_i log(p_i/q_i)}$"
   ]
  },
  {
   "cell_type": "markdown",
   "metadata": {},
   "source": [
    "La divergencia KL es cero cuando las dos distribuciones son iguales.\n",
    "\n",
    "Cual es el valor de la entropía cruzada mínimo?"
   ]
  },
  {
   "cell_type": "code",
   "execution_count": 151,
   "metadata": {},
   "outputs": [],
   "source": [
    "def cross_entropy(P, Q):\n",
    "    ce = 0\n",
    "    for i, p in enumerate(P):\n",
    "        ce = ce - p*np.log(Q[i])\n",
    "    return ce/np.log(len(P))"
   ]
  },
  {
   "cell_type": "code",
   "execution_count": 157,
   "metadata": {},
   "outputs": [],
   "source": [
    "X = {1: 0.2, 2: 0.1, 3: 0.2, 4:0.1, 5:0.1, 6: 0.1, 7:0.2}"
   ]
  },
  {
   "cell_type": "code",
   "execution_count": 158,
   "metadata": {},
   "outputs": [],
   "source": [
    "from matplotlib import pyplot as plt"
   ]
  },
  {
   "cell_type": "code",
   "execution_count": 161,
   "metadata": {},
   "outputs": [
    {
     "data": {
      "image/png": "[encoded data removed]",
      "text/plain": [
       "<Figure size 432x288 with 1 Axes>"
      ]
     },
     "metadata": {
      "needs_background": "light"
     },
     "output_type": "display_data"
    }
   ],
   "source": [
    "plt.bar(X.keys(), X.values())\n",
    "plt.show()"
   ]
  },
  {
   "cell_type": "code",
   "execution_count": 153,
   "metadata": {},
   "outputs": [],
   "source": [
    "def estimate_and_get_ce(X, N):\n",
    "    observaciones = np.random.choice(list(X.keys()), size = N, p = list(X.values()))\n",
    "    ps, _ = np.histogram(observaciones, bins=len(X), range=[1,len(X)+1])\n",
    "    ps = ps/len(observaciones)\n",
    "    return cross_entropy(list(X.values()), ps)"
   ]
  },
  {
   "cell_type": "code",
   "execution_count": 154,
   "metadata": {},
   "outputs": [],
   "source": [
    "entropies = []\n",
    "Ns = []\n",
    "for N in range(200):\n",
    "    obs = 100 + N*100\n",
    "    Ns.append(obs)\n",
    "    entropies.append(estimate_and_get_ce(X, obs))"
   ]
  },
  {
   "cell_type": "code",
   "execution_count": 156,
   "metadata": {},
   "outputs": [
    {
     "data": {
      "image/png": "[encoded data removed]",
      "text/plain": [
       "<Figure size 432x288 with 1 Axes>"
      ]
     },
     "metadata": {
      "needs_background": "light"
     },
     "output_type": "display_data"
    }
   ],
   "source": [
    "plt.plot(Ns, entropies)\n",
    "plt.xscale('log')"
   ]
  },
  {
   "cell_type": "markdown",
   "metadata": {},
   "source": [
    "### Intuición de la entropía Cruzada:\n",
    "\n",
    "https://www.quora.com/Whats-an-intuitive-way-to-think-of-cross-entropy"
   ]
  },
  {
   "cell_type": "code",
   "execution_count": null,
   "metadata": {},
   "outputs": [],
   "source": []
  }
 ],
 "metadata": {
  "kernelspec": {
   "display_name": "Python 3",
   "language": "python",
   "name": "python3"
  },
  "language_info": {
   "codemirror_mode": {
    "name": "ipython",
    "version": 3
   },
   "file_extension": ".py",
   "mimetype": "text/x-python",
   "name": "python",
   "nbconvert_exporter": "python",
   "pygments_lexer": "ipython3",
   "version": "3.6.8"
  }
 },
 "nbformat": 4,
 "nbformat_minor": 2
}
